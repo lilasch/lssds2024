{
    "metadata": {
        "kernelspec": {
            "name": "python3",
            "display_name": "Python 3 (ipykernel)",
            "language": "python"
        }
    },
    "nbformat": 4,
    "nbformat_minor": 1,
    "cells": [
        {
            "attachments": {},
            "cell_type": "markdown",
            "metadata": {},
            "source": [
                "## Exercise: Evaluation metrics for GANs"
            ]
        },
        {
            "cell_type": "code",
            "execution_count": 0,
            "metadata": {},
            "outputs": [],
            "source": [
                "import numpy as np\n",
                "import matplotlib.pyplot as plt\n",
                "from keras.applications.inception_v3 import InceptionV3\n",
                "from keras.applications.inception_v3 import preprocess_input\n",
                "from keras.datasets import cifar10\n",
                "from skimage.transform import resize\n",
                "import numpy as np\n",
                "from scipy.linalg import sqrtm"
            ]
        },
        {
            "attachments": {},
            "cell_type": "markdown",
            "metadata": {},
            "source": [
                "### 1. Inception Score"
            ]
        },
        {
            "cell_type": "code",
            "execution_count": 1,
            "metadata": {},
            "outputs": [],
            "source": [
                "def calculate_IS(p_yx, eps = 1e-16):\n",
                "    \"\"\"\n",
                "    A function to calculate the inception score given the InceptionV3 output probabilities for a bunch of images\n",
                "    Parameters:\n",
                "    ===========\n",
                "\n",
                "    p_yx: 2D Numpy array (N, 1000)\n",
                "      A numpy array containing the output probabilities for N images obtained from an InceptionV3 model\n",
                "    eps: float\n",
                "      A number to add for numerical stability\n",
                "\n",
                "    Returns:\n",
                "    ========\n",
                "\n",
                "    IS: float\n",
                "    The inception score of the images\n",
                "    \"\"\"\n",
                "    N = p_yx.shape[0]\n",
                "    # Calculate the marginal probability\n",
                "    p_y = ___\n",
                "    # Calculate KL-divergence between p_yx of each image and p_y separately (remember to use epsilon)\n",
                "    kl_d = ___\n",
                "    assert(kl_d.shape == (N, 1))\n",
                "    \n",
                "    avg_kl_d = kl_d.mean(axis=0).squeeze()\n",
                "    \n",
                "    # Finally calculate the inception score from expected KL-divergence\n",
                "    IS = ___\n",
                "    return IS\n",
                ""
            ]
        },
        {
            "cell_type": "code",
            "execution_count": 0,
            "metadata": {},
            "outputs": [],
            "source": [
                "p_yx = np.ones((5,1000))/1000\n",
                "print(p_yx.shape)\n",
                "#p_yx = np.array([[1.0, 0.0, 0.0], [0.0, 1.0, 0.0], [0.0, 0.0, 1.0]])\n",
                "print(calculate_IS(p_yx))"
            ]
        },
        {
            "attachments": {},
            "cell_type": "markdown",
            "metadata": {},
            "source": [
                "### 2. Frechet Inception distance"
            ]
        },
        {
            "cell_type": "code",
            "execution_count": 0,
            "metadata": {},
            "outputs": [],
            "source": [
                "# calculate frechet inception distance\n",
                "def calculate_FID(act1, act2):\n",
                "    \"\"\"\n",
                "    A function that takes the pre-final activations for two sets of images an returns the Frechet Inception Distance.\n",
                "    Parameters:\n",
                "    ===========\n",
                "    act1: 2D Numpy array (N, 2048) \n",
                "        Activations of the first set of images\n",
                "    act2: 2D Numpy array (N, 2048) \n",
                "        Activations of the second set of images\n",
                "\n",
                "    Returns:\n",
                "    ========\n",
                "    FID: float\n",
                "      The Frechet Inception distance between the two sets of images\n",
                "    \"\"\"\n",
                "    # calculate mean and covariance statistics\n",
                "    # The “mu_1” and “mu_2” refer to the feature-wise mean of the real \n",
                "    # and generated images, e.g. 2,048 element vectors where each \n",
                "    # element is the mean feature observed across the images.\n",
                "    mu1, mu2 = ___\n",
                "\n",
                "    # The sigma1 and sigma2 are the covariance matrix for the real \n",
                "    # and generated feature vectors. \n",
                "    # Remember each row is a sample/image.\n",
                "    sigma1, sigma2 = ___\n",
                "\n",
                "    # calculate sum squared difference between means\n",
                "    ssdiff = np.sum((mu1 - mu2)**2.0)\n",
                "    # calculate sqrt of product between cov\n",
                "    covmean = sqrtm(sigma1.dot(sigma2))\n",
                "    # check and correct imaginary numbers from sqrt\n",
                "    if np.iscomplexobj(covmean):\n",
                "    covmean = covmean.real\n",
                "\n",
                "    # calculate score\n",
                "    fid = ___\n",
                "  \n",
                "    return FID"
            ]
        },
        {
            "cell_type": "code",
            "execution_count": 0,
            "metadata": {},
            "outputs": [],
            "source": [
                "### edTest(test_check) ###\n",
                "# define two collections of activations\n",
                "np.random.seed(109)\n",
                "# We assume 10 images\n",
                "# The output layer of the Inception model is removed and the output \n",
                "# is taken as the activations from the last pooling layer, hence 2048.\n",
                "act1 = np.random.random(10*2048)\n",
                "act1 = act1.reshape((10,2048))\n",
                "np.random.seed(295)\n",
                "act2 = np.random.random(10*2048)\n",
                "act2 = act2.reshape((10,2048))\n",
                "# fd between act1 and act1\n",
                "fd = calculate_FID(act1, act1)\n",
                "print('FD (same): %.3f' % fd)\n",
                "# fd between act1 and act2\n",
                "fd = calculate_FID(act1, act2)\n",
                "print('FD (different): %.3f' % fd)"
            ]
        },
        {
            "cell_type": "code",
            "execution_count": 0,
            "metadata": {},
            "outputs": [],
            "source": [
                "# Code to load 25 cifar10 images\n",
                "# Code already given\n",
                "(images, _), (_, _) = cifar10.load_data()\n",
                "print('Success')\n",
                "# Select a subset of 25 images\n",
                "images = images[:25]\n",
                "fig=plt.figure(figsize=(5, 5))\n",
                "columns = 5\n",
                "rows = 5\n",
                "for i in range(1, columns*rows +1):\n",
                "    img = images[i-1]\n",
                "    fig.add_subplot(rows, columns, i)\n",
                "    plt.axis('off')\n",
                "    plt.imshow(img)\n",
                "plt.show()"
            ]
        },
        {
            "attachments": {},
            "cell_type": "markdown",
            "metadata": {},
            "source": [
                "Add some noise to these images for calculating FID"
            ]
        },
        {
            "cell_type": "code",
            "execution_count": 0,
            "metadata": {},
            "outputs": [],
            "source": [
                "mean = 0\n",
                "std = __\n",
                "noisy_images = images.copy()\n",
                "for i in range(len(images)):\n",
                "    noisy_images[i] = images[i] + np.random.normal(mean, std, (32,32,3)) \n",
                "fig=plt.figure(figsize=(5, 5))\n",
                "columns = 5\n",
                "rows = 5\n",
                "for i in range(1, columns*rows +1):\n",
                "    img = noisy_images[i-1]\n",
                "    fig.add_subplot(rows, columns, i)\n",
                "    plt.axis('off')\n",
                "    plt.imshow(img)\n",
                "plt.show()"
            ]
        },
        {
            "attachments": {},
            "cell_type": "markdown",
            "metadata": {},
            "source": [
                "### Auxiliary functions\n",
                "Below we have two auxiliary functions:\n",
                "\n",
                "\n",
                "1.   `scale_images(images, new_shape)` takes an array of images and resizes it to a new size\n",
                "2.  `get_InceptionV3_output(images, prob)` takes an array of images and returns the output after passing them through InceptionV3. Note that *IS* and *FID* take different parts of InceptionV3 output. *IS* takes the output probabilities `(N, 1000)` while *FID* takes the pre-final features `(N, 2048)`. The argument `prob` specifies what kind of output is needed.\n",
                "\n",
                "\n",
                ""
            ]
        },
        {
            "cell_type": "code",
            "execution_count": 0,
            "metadata": {},
            "outputs": [],
            "source": [
                "# Auxilliary function to scale an array of images to a new size\n",
                "def scale_images(images, new_shape):\n",
                "    images_list = list()\n",
                "    for image in images:\n",
                "        # resize with nearest neighbor interpolation\n",
                "        new_image = resize(image, new_shape, 0)\n",
                "        # store\n",
                "        images_list.append(new_image)\n",
                "    return np.array(images_list)"
            ]
        },
        {
            "cell_type": "code",
            "execution_count": 0,
            "metadata": {},
            "outputs": [],
            "source": [
                "def get_InceptionV3_output(images, prob = True):\n",
                "    \"\"\"\n",
                "    A function to get the InceptionV3 output of an array of images.\n",
                "\n",
                "    Parameters:\n",
                "    ===========\n",
                "\n",
                "    images: np.array (N, 32, 32, 3)\n",
                "      array of input images\n",
                "\n",
                "    prob: boolean\n",
                "      if True return output probabilities (N, 1000)\n",
                "      else return output features (without top layer) (N, 2048)\n",
                "    \"\"\"\n",
                "    N = images.shape[0]\n",
                "    if prob:\n",
                "      model = InceptionV3(include_top = ___)\n",
                "    else:\n",
                "      model = InceptionV3(include_top = ___, pooling='avg')\n",
                "    # scale images to the required size\n",
                "    images = scale_images(images, (299,299,3))\n",
                "    # pre-process images, scale to [-1,1]\n",
                "    images = preprocess_input(images)\n",
                "    # predict p(y|x)\n",
                "    output = model.predict(images)\n",
                "\n",
                "    if prob:\n",
                "        assert(output.shape == (N, 1000))\n",
                "    else:\n",
                "        assert(output.shape == (N, 2048))\n",
                "        \n",
                "    return output"
            ]
        },
        {
            "attachments": {},
            "cell_type": "markdown",
            "metadata": {},
            "source": [
                "Calculate the inception score on these images"
            ]
        },
        {
            "cell_type": "code",
            "execution_count": 0,
            "metadata": {},
            "outputs": [],
            "source": [
                "p_yx = get_InceptionV3_output(____, prob = ___)\n",
                "print(calculate_IS(p_yx))"
            ]
        },
        {
            "attachments": {},
            "cell_type": "markdown",
            "metadata": {},
            "source": [
                "Calculate the FID on these images vs noisy images"
            ]
        },
        {
            "cell_type": "code",
            "execution_count": 0,
            "metadata": {},
            "outputs": [],
            "source": [
                "act1 = get_InceptionV3_output(___, prob = ____)\n",
                "act2 = get_InceptionV3_output(___, prob = ____)\n",
                "print(calculate_FID(act1, act2))"
            ]
        },
        {
            "attachments": {},
            "cell_type": "markdown",
            "metadata": {},
            "source": [
                "### Optional:\n",
                "Try to change the amount of noise and see how the FID correlates"
            ]
        },
        {
            "cell_type": "code",
            "execution_count": 0,
            "metadata": {},
            "outputs": [],
            "source": [
                ""
            ]
        }
    ]
}
